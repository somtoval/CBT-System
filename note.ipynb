{
 "cells": [
  {
   "cell_type": "code",
   "execution_count": null,
   "metadata": {
    "vscode": {
     "languageId": "plaintext"
    }
   },
   "outputs": [],
   "source": [
    "\n",
    "\n",
    "Exam\n",
    "- UUID\n",
    "- Name\n",
    "- Description\n",
    "- Duration(minutes)\n",
    "\n",
    "Authentication\n",
    "- Name\n",
    "- Email\n",
    "- Phone\n",
    "- Exam(many to many)\n",
    "\n",
    "Registration\n"
   ]
  },
  {
   "cell_type": "code",
   "execution_count": null,
   "metadata": {
    "vscode": {
     "languageId": "plaintext"
    }
   },
   "outputs": [],
   "source": [
    "############# I WANT TO SIMPLIFY THINGS BY NOT MAKING AN EXAM MODEL THAT ACTS LIKE A COLLECTION OF SUBJECT BECAUSE IT WILL ONLY BE PROFITABLE WHEN THERE DON'T NEED TO START REGISTRING PEOPLE FOR A NEW EXAM ALL THEY NEED IS TO ADD THE EXAMPLE BUT THEN FOR EACH EXAM IN FORETRUST NEEDS TO BE REGISTERED ########################\n",
    "from django.db import models\n",
    "from django.contrib.auth.models import User\n",
    "\n",
    "# Subject Model: Represents each subject, like Math, English, etc.\n",
    "class Subject(models.Model):\n",
    "    name = models.CharField(max_length=100, unique=True)\n",
    "    description = models.TextField(blank=True, null=True)\n",
    "\n",
    "    def __str__(self):\n",
    "        return self.name\n",
    "\n",
    "# Exam Model: Represents an exam, e.g., \"Entrance Exam\", containing multiple subjects.\n",
    "class Exam(models.Model):\n",
    "    name = models.CharField(max_length=100)\n",
    "    subjects = models.ManyToManyField(Subject, related_name=\"exams\")\n",
    "    date = models.DateField()\n",
    "\n",
    "    def __str__(self):\n",
    "        return self.name\n",
    "\n",
    "# Question Model: Represents each question within a subject of an exam.\n",
    "class Question(models.Model):\n",
    "    exam = models.ForeignKey(Exam, on_delete=models.CASCADE, related_name=\"questions\")\n",
    "    subject = models.ForeignKey(Subject, on_delete=models.CASCADE, related_name=\"questions\")\n",
    "    text = models.TextField()  # The question text\n",
    "\n",
    "    def __str__(self):\n",
    "        return f\"{self.subject.name} - {self.text[:50]}\"  # Display part of the question text\n",
    "\n",
    "# Option Model: Represents options for each question.\n",
    "class Option(models.Model):\n",
    "    question = models.ForeignKey(Question, on_delete=models.CASCADE, related_name=\"options\")\n",
    "    text = models.CharField(max_length=200)  # Option text\n",
    "    is_correct = models.BooleanField(default=False)  # Marks if this option is the correct answer\n",
    "\n",
    "    def __str__(self):\n",
    "        return f\"{self.text} ({'Correct' if self.is_correct else 'Incorrect'})\"\n",
    "\n",
    "# Registration Model: Links each user to an exam and subjects within the exam.\n",
    "class Registration(models.Model):\n",
    "    user = models.ForeignKey(User, on_delete=models.CASCADE, related_name=\"registrations\")\n",
    "    exam = models.ForeignKey(Exam, on_delete=models.CASCADE, related_name=\"registrations\")\n",
    "    subjects = models.ManyToManyField(Subject, related_name=\"registrations\")\n",
    "    registration_date = models.DateTimeField(auto_now_add=True)\n",
    "\n",
    "    class Meta:\n",
    "        unique_together = ('user', 'exam')  # Prevent multiple registrations of the same user for the same exam\n",
    "\n",
    "    def __str__(self):\n",
    "        return f\"{self.user.username} - {self.exam.name}\"\n",
    "\n",
    "# Answer Model: Stores users' selected options for each question.\n",
    "class Answer(models.Model):\n",
    "    user = models.ForeignKey(User, on_delete=models.CASCADE, related_name=\"answers\")\n",
    "    question = models.ForeignKey(Question, on_delete=models.CASCADE, related_name=\"answers\")\n",
    "    selected_option = models.ForeignKey(Option, on_delete=models.CASCADE, related_name=\"answers\")\n",
    "    answered_at = models.DateTimeField(auto_now_add=True)\n",
    "\n",
    "    class Meta:\n",
    "        unique_together = ('user', 'question')  # Prevent multiple answers for the same question by the same user\n",
    "\n",
    "    def __str__(self):\n",
    "        return f\"{self.user.username} - {self.question.text[:50]} - {self.selected_option.text}\"\n"
   ]
  },
  {
   "cell_type": "code",
   "execution_count": null,
   "metadata": {
    "vscode": {
     "languageId": "plaintext"
    }
   },
   "outputs": [],
   "source": [
    "from django.db import models\n",
    "from django.contrib.auth.models import User\n",
    "\n",
    "# Exam Model: Represents an exam, e.g., \"Entrance Exam\", containing multiple subjects.\n",
    "class Exam(models.Model):\n",
    "    name = models.CharField(max_length=100, unique=True)\n",
    "    description = models.TextField(blank=True, null=True)\n",
    "    durations = # to store time\n",
    "\n",
    "    def __str__(self):\n",
    "        return self.name\n",
    "\n",
    "# Question Model: Represents each question of an exam.\n",
    "class Question(models.Model):\n",
    "    exam = models.ForeignKey(Subject, on_delete=models.CASCADE, related_name=\"questions\")\n",
    "    text = models.TextField()  # The question text\n",
    "\n",
    "    def __str__(self):\n",
    "        return f\"{self.subject.name} - {self.text[:50]}\"  # Display part of the question text\n",
    "\n",
    "# Option Model: Represents options for each question.\n",
    "class Option(models.Model):\n",
    "    question = models.ForeignKey(Question, on_delete=models.CASCADE, related_name=\"options\")\n",
    "    text = models.CharField(max_length=200)  # Option text\n",
    "    is_correct = models.BooleanField(default=False)  # Marks if this option is the correct answer\n",
    "\n",
    "    def __str__(self):\n",
    "        return f\"{self.text} ({'Correct' if self.is_correct else 'Incorrect'})\"\n",
    "\n",
    "# Registration Model: Links each user to an exam and subjects within the exam.\n",
    "class Registration(models.Model):\n",
    "    user = models.ForeignKey(User, on_delete=models.CASCADE, related_name=\"registrations\")\n",
    "    exam = models.ForeignKey(Exam, on_delete=models.CASCADE, related_name=\"registrations\")\n",
    "    subjects = models.ManyToManyField(Subject, related_name=\"registrations\")\n",
    "    registration_date = models.DateTimeField(auto_now_add=True)\n",
    "\n",
    "    class Meta:\n",
    "        unique_together = ('user', 'exam')  # Prevent multiple registrations of the same user for the same exam\n",
    "\n",
    "    def __str__(self):\n",
    "        return f\"{self.user.username} - {self.exam.name}\"\n",
    "\n",
    "# Answer Model: Stores users' selected options for each question.\n",
    "class Answer(models.Model):\n",
    "    user = models.ForeignKey(User, on_delete=models.CASCADE, related_name=\"answers\")\n",
    "    question = models.ForeignKey(Question, on_delete=models.CASCADE, related_name=\"answers\")\n",
    "    selected_option = models.ForeignKey(Option, on_delete=models.CASCADE, related_name=\"answers\")\n",
    "    answered_at = models.DateTimeField(auto_now_add=True)\n",
    "\n",
    "    class Meta:\n",
    "        unique_together = ('user', 'question')  # Prevent multiple answers for the same question by the same user\n",
    "\n",
    "    def __str__(self):\n",
    "        return f\"{self.user.username} - {self.question.text[:50]} - {self.selected_option.text}\""
   ]
  },
  {
   "cell_type": "code",
   "execution_count": null,
   "metadata": {
    "vscode": {
     "languageId": "plaintext"
    }
   },
   "outputs": [],
   "source": [
    "It will not need to have candidates to user the django user model because they will have no passwords\n",
    "\n",
    "The admin user will be created from django admin"
   ]
  },
  {
   "cell_type": "code",
   "execution_count": null,
   "metadata": {
    "vscode": {
     "languageId": "plaintext"
    }
   },
   "outputs": [],
   "source": []
  },
  {
   "cell_type": "code",
   "execution_count": null,
   "metadata": {
    "vscode": {
     "languageId": "plaintext"
    }
   },
   "outputs": [],
   "source": []
  }
 ],
 "metadata": {
  "language_info": {
   "name": "python"
  }
 },
 "nbformat": 4,
 "nbformat_minor": 2
}
