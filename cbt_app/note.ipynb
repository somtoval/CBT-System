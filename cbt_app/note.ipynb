{
 "cells": [
  {
   "cell_type": "markdown",
   "metadata": {},
   "source": [
    "**In my views.py I overidded the builtin create method in CBVs: Why Override the create Method?**\n",
    "\n",
    "- Custom Response Format:\n",
    "By default, Django REST Framework returns only the serialized data in the response.\n",
    "If you want to include a custom success message or additional information in the response (like {\"message\": \"Candidate created successfully\"}), you need to override the method.\n",
    "\n",
    "- Pre- or Post-Processing:\n",
    "If you want to perform additional actions before or after saving the object (e.g., logging, sending emails, or triggering background tasks), overriding is necessary.\n",
    "Example: Sending a confirmation email after a candidate is successfully created.\n",
    "\n",
    "- Custom Error Handling:\n",
    "While DRF provides built-in error handling, you might want to modify how validation errors or other exceptions are reported.\n",
    "\n",
    "- Adding Custom Logic During Object Creation:\n",
    "If the save() logic in your model doesn’t handle all your requirements, you can introduce specific business rules here.\n",
    "\n",
    "\n",
    "\n",
    "**If You Do Not Override:**\n",
    "- The ListCreateAPIView handles object creation automatically.\n",
    "- The default behavior:\n",
    "    - Validates the data using CandidateSerializer.\n",
    "    - Saves the new object.\n",
    "    - Returns a 201 Created response with the serialized data"
   ]
  },
  {
   "cell_type": "code",
   "execution_count": null,
   "metadata": {
    "vscode": {
     "languageId": "plaintext"
    }
   },
   "outputs": [],
   "source": []
  },
  {
   "cell_type": "markdown",
   "metadata": {},
   "source": []
  }
 ],
 "metadata": {
  "language_info": {
   "name": "python"
  }
 },
 "nbformat": 4,
 "nbformat_minor": 2
}
